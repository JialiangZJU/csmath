{
 "cells": [
  {
   "cell_type": "code",
   "execution_count": 1,
   "metadata": {
    "collapsed": false
   },
   "outputs": [],
   "source": [
    "import numpy as np\n",
    "import matplotlib.pyplot as plt"
   ]
  },
  {
   "cell_type": "code",
   "execution_count": 2,
   "metadata": {
    "collapsed": true
   },
   "outputs": [],
   "source": [
    "def Load_data(filename):\n",
    "    f = open(filename)\n",
    "    \n",
    "    data = []\n",
    "    num = 0\n",
    "    \n",
    "    for line in f:\n",
    "        Line = map(int,line.split(','))\n",
    "        data.append(Line)\n",
    "        num += 1\n",
    "        \n",
    "    data = np.array(data)\n",
    "    t = data[:,0:-1] / 255.0\n",
    "    t_label = data[:,-1]\n",
    "    \n",
    "    # t : Num * dimension\n",
    "    return t, t_label"
   ]
  },
  {
   "cell_type": "code",
   "execution_count": 3,
   "metadata": {
    "collapsed": false
   },
   "outputs": [],
   "source": [
    "def PCA(data,p):\n",
    "    # Input :\n",
    "    #    data    -Data Matrix. Each row vector of fea is a data point\n",
    "    #    p       -Number of dimension to project\n",
    "    \n",
    "    # Output :\n",
    "    #    data_mean\n",
    "    #    eigvector\n",
    "    #    eigvalue\n",
    "    data_mean = data.mean(0)\n",
    "    \n",
    "    eigvalue,eigvector = np.linalg.eig(np.dot((data-data_mean).T,data-data_mean))\n",
    "    \n",
    "    return data_mean, eigvector[:,0:p], eigvalue[0:p]\n",
    "    "
   ]
  },
  {
   "cell_type": "code",
   "execution_count": 4,
   "metadata": {
    "collapsed": true
   },
   "outputs": [],
   "source": [
    "def Project(data_0_mean,eigvector,eigvalue):\n",
    "    return np.dot(data_0_mean,eigvector)*eigvalue"
   ]
  },
  {
   "cell_type": "code",
   "execution_count": 5,
   "metadata": {
    "collapsed": true
   },
   "outputs": [],
   "source": [
    "def plot_eig(data_mean,eigvector,eigvalue,digit):\n",
    "    fig1 = plt.figure(1,figsize=(12, 5))\n",
    "    plt.subplot(131)\n",
    "    plt.xlabel('mean')\n",
    "    plt.imshow(data_mean.reshape(8,8),cmap=plt.cm.gray)\n",
    "    \n",
    "    plt.subplot(132)\n",
    "    plt.xlabel('1st Component')\n",
    "    plt.title('$\\lambda = %.3f$' % eigvalue[0])\n",
    "    plt.imshow(eigvector[:,0].reshape(8,8),cmap=plt.cm.gray)\n",
    "    \n",
    "    plt.subplot(133)\n",
    "    plt.xlabel('2nd Component')\n",
    "    plt.title('$\\lambda = %.3f$' % eigvalue[1])\n",
    "    plt.imshow(eigvector[:,1].reshape(8,8),cmap=plt.cm.gray)\n",
    "    \n",
    "    plt.subplots_adjust(wspace=0.2, hspace=0.2, top=1, bottom=0, left=0.1, right=0.9)\n",
    "    plt.show()\n",
    "    \n",
    "    fig1.savefig(\"mean_compoent_%d.pdf\"%digit);"
   ]
  },
  {
   "cell_type": "code",
   "execution_count": 6,
   "metadata": {
    "collapsed": true
   },
   "outputs": [],
   "source": [
    "def feat_point(x,y,p):\n",
    "    N = len(x)\n",
    "    interval_x = (max(x)-min(x))/float(p)\n",
    "    interval_y = (max(y)-min(y))/float(p)\n",
    "    ref_x = map(lambda t:min(x)+interval_x*(t+0.5),range(p))\n",
    "    ref_y = map(lambda t:min(y)+interval_y*(t+0.5),range(p))\n",
    "    p_indx = []   \n",
    "    for i in range(p):\n",
    "        for j in range(p):\n",
    "            f = lambda a:(ref_x[i]-x[a])**2+(ref_y[j]-y[a])**2\n",
    "            dist = map(f,range(N))      \n",
    "            ind = dist.index(min(dist))\n",
    "            p_indx.append(ind)\n",
    "    return p_indx, ref_x, ref_y"
   ]
  },
  {
   "cell_type": "code",
   "execution_count": 7,
   "metadata": {
    "collapsed": true
   },
   "outputs": [],
   "source": [
    "def plot_images_matrix(train,indx,digit):\n",
    "    p = int(np.sqrt(len(indx)))   \n",
    "    fig3 = plt.figure(3,figsize=(10, 9))\n",
    "    for i in range(p):\n",
    "        for j in range(p):\n",
    "            plt.subplot(p,p,p*(p-i-1)+j+1)\n",
    "            img = train[indx[i*p+j],:].reshape(8,8)\n",
    "            plt.imshow(img,cmap=plt.cm.gray)\n",
    "            plt.axis('off')\n",
    "            #plt.grid(True)\n",
    "    plt.subplots_adjust(wspace=0.01, hspace=0.02, top=0.95, bottom=0.05, left=0.05, right=0.95)\n",
    "    plt.show()\n",
    "    fig3.savefig('images_matrix_%d.pdf'%digit)\n"
   ]
  },
  {
   "cell_type": "code",
   "execution_count": 8,
   "metadata": {
    "collapsed": false
   },
   "outputs": [],
   "source": [
    "def main():\n",
    "    digit = 3\n",
    "    dimension = 2\n",
    "    train,train_label = Load_data('ORHDDS/optdigits.tra')\n",
    "    train = train[train_label == digit,:]\n",
    "    train_label = train_label[train_label == digit]\n",
    "    \n",
    "    dm,eigvec,eigval = PCA(train,2)\n",
    "    plot_eig(dm,eigvec,eigval,digit)\n",
    "    \n",
    "    Proj = Project(train-dm,eigvec,eigval)\n",
    "    Proj = Proj * 100\n",
    "    \n",
    "    p = 5\n",
    "    indx,ref_x,ref_y = feat_point(Proj[:,0],Proj[:,1],p)\n",
    "    \n",
    "    fig2 = plt.figure(2)\n",
    "    plt.xlabel('1st Component')\n",
    "    plt.ylabel('2nd Component')\n",
    "    plt.plot(Proj[:,0],Proj[:,1],'o',color='#00FF00')\n",
    "    \n",
    "    plt.axhline(y=0,color='black')\n",
    "    plt.axvline(x=0,color='black')\n",
    "    p = int(np.sqrt(len(indx)))\n",
    "    for i in range(p):\n",
    "        plt.axvline(ref_x[i],linestyle='--',color='.5')\n",
    "        plt.axhline(ref_y[i],linestyle='--',color='.5')\n",
    "\n",
    "    plt.plot(Proj[:,0][indx],Proj[:,1][indx],'ro')\n",
    "    plt.show()\n",
    "    fig2.savefig('feature_space_%d.pdf'%digit)\n",
    "\n",
    "    plot_images_matrix(train,indx,digit)"
   ]
  },
  {
   "cell_type": "code",
   "execution_count": 9,
   "metadata": {
    "collapsed": false
   },
   "outputs": [],
   "source": [
    "if __name__=='__main__':\n",
    "    main()"
   ]
  }
 ],
 "metadata": {
  "kernelspec": {
   "display_name": "Python 2",
   "language": "python",
   "name": "python2"
  },
  "language_info": {
   "codemirror_mode": {
    "name": "ipython",
    "version": 2
   },
   "file_extension": ".py",
   "mimetype": "text/x-python",
   "name": "python",
   "nbconvert_exporter": "python",
   "pygments_lexer": "ipython2",
   "version": "2.7.6"
  }
 },
 "nbformat": 4,
 "nbformat_minor": 0
}
