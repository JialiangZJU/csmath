{
 "cells": [
  {
   "cell_type": "code",
   "execution_count": 47,
   "metadata": {
    "collapsed": true
   },
   "outputs": [],
   "source": [
    "import numpy as np\n",
    "import matplotlib.pyplot as plt"
   ]
  },
  {
   "cell_type": "code",
   "execution_count": 48,
   "metadata": {
    "collapsed": true
   },
   "outputs": [],
   "source": [
    "class svmclass:\n",
    "    def __init__(self,data,label):\n",
    "        self.trainX = data\n",
    "        self.trainY = label\n",
    "        self.alpha  = np.ones([label.shape[0],1])\n",
    "        self.bias = 0\n",
    "        self.shift = np.zeros([1,data.shape[1]])\n",
    "        self.scalefactor = np.zeros([1,data.shape[1]])\n",
    "        self.sv = data\n",
    "        self.sv_idx = np.array(range(data.shape[0]))\n",
    "        self.kernelfunc = rbf_kernel"
   ]
  },
  {
   "cell_type": "code",
   "execution_count": 49,
   "metadata": {
    "collapsed": true
   },
   "outputs": [],
   "source": [
    "def linear_kernel(x,y):\n",
    "    return np.dot(x,y.T)\n",
    "\n",
    "def poly_kernel(x,y):\n",
    "    gamma = 0.5\n",
    "    r = 1\n",
    "    d = 3\n",
    "    return (gamma*np.dot(x,y.T)+r)**d\n",
    "\n",
    "def rbf_kernel(x,y):\n",
    "    sigma = 0.5\n",
    "    return np.exp(-1/(2*sigma**2)*np.array([(x**2).sum(1)]).T+np.array([(y.T**2).sum(0)]-2*np.dot(x,y.T)))\n",
    "    \n",
    "def exp_kernel(x,y):\n",
    "    sigma = 0.5\n",
    "    kval = np.zeros([x.shape[0],y.shape[0]])\n",
    "    for i in range(x.shape[0]):\n",
    "        for j in range(y.shape[0]):\n",
    "            kval[i,j] = abs(x[i,:]-y[j,:]).sum(0)\n",
    "    return np.exp(-1/(2*sigma**2)*kval)\n"
   ]
  },
  {
   "cell_type": "code",
   "execution_count": 50,
   "metadata": {
    "collapsed": true
   },
   "outputs": [],
   "source": [
    "def trainsvm(data,label):\n",
    "    # svm for binary case\n",
    "    label[label<0] = -1\n",
    "    label[label>0] = 1\n",
    "    \n",
    "    kernel = exp_kernel\n",
    "    N,D = data.shape\n",
    "    BoxC = np.ones([N,1])\n",
    "    \n",
    "    # LS\n",
    "    \n",
    "    shift = data.mean(0)\n",
    "    scalefactor = 1.0 / data.std(0)\n",
    "    for i in range(D):\n",
    "        data[:,i] = (data[:,i]-shift[i])*scalefactor[i]\n",
    "    \n",
    "    #kernel\n",
    "    Omega = kernel(data,data)\n",
    "    Omega = 0.5*(Omega+Omega.T) + np.diag(BoxC[:,0])\n",
    "    \n",
    "    #Hessian\n",
    "    Q = np.dot(label,label.T)*Omega\n",
    "    \n",
    "    #solve Ax=b\n",
    "    A = np.matrix(np.zeros([N+1,N+1]))\n",
    "    A[1:,0] = np.matrix(label)\n",
    "    A[0,1:] = np.matrix(-label.T)\n",
    "    A[1:,1:] = np.matrix(Q)\n",
    "    \n",
    "    b = np.matrix(np.ones([N+1,1]))\n",
    "    b[0] = 0\n",
    "    x = np.linalg.solve(A,b)\n",
    "    bias = x[0]\n",
    "    alpha = label*np.array(x[1:])\n",
    "    sv = data\n",
    "    sv_idx = np.array(range(N))\n",
    "\n",
    "    svm = svmclass(data,label)\n",
    "    svm.kernelfunc = kernel\n",
    "    svm.scalefactor = scalefactor\n",
    "    svm.shift = shift\n",
    "    svm.alpha = alpha\n",
    "    svm.bias = bias\n",
    "    svm.sv = sv\n",
    "    svm.sv_idx = sv_idx\n",
    "    \n",
    "    return svm"
   ]
  },
  {
   "cell_type": "code",
   "execution_count": 51,
   "metadata": {
    "collapsed": true
   },
   "outputs": [],
   "source": [
    "def classify(svm,testX):\n",
    "    for i in range(testX.shape[1]):\n",
    "        testX[:,i] = svm.scalefactor[i]*(testX[:,i]-svm.shift[i])\n",
    "    \n",
    "    pred = np.dot((svm.kernelfunc(svm.sv,testX)).T,svm.alpha)+svm.bias\n",
    "    return np.sign(pred)"
   ]
  },
  {
   "cell_type": "code",
   "execution_count": 95,
   "metadata": {
    "collapsed": false
   },
   "outputs": [],
   "source": [
    "def main():\n",
    "    num = 100\n",
    "    rad1 = np.sqrt(np.random.rand(num,1))\n",
    "    ang1 = 2*np.pi*np.random.rand(num,1)\n",
    "    data1 = np.zeros([num,2])\n",
    "    data1[:,0] = (rad1*np.cos(ang1))[:,0]\n",
    "    data1[:,1] = (rad1*np.sin(ang1))[:,0]\n",
    "    \n",
    "    rad2 = np.sqrt(3*np.random.rand(num,1)+1)\n",
    "    ang2 = 2*np.pi*np.random.rand(num,1)\n",
    "    data2 = np.zeros([num,2])\n",
    "    data2[:,0] = (rad2*np.cos(ang2))[:,0]\n",
    "    data2[:,1] = (rad2*np.sin(ang2))[:,0]\n",
    "    \n",
    "    fig1 = plt.figure(1)\n",
    "    plt.grid(True)\n",
    "    h1 = plt.plot(data1[:,0],data1[:,1],'bo',label=\"1(train)\")\n",
    "    h2 = plt.plot(data2[:,0],data2[:,1],'ro',label=\"2(train)\")\n",
    "    \n",
    "    cir = plt.Circle((0,0),1,facecolor='none',edgecolor='g',linewidth=2,alpha=0.5)\n",
    "    plt.gca().add_patch(cir)\n",
    "    cir = plt.Circle((0,0),2,facecolor='none',edgecolor='g',linewidth=2,alpha=0.5)\n",
    "    plt.gca().add_patch(cir)\n",
    "    plt.axis('equal')\n",
    "    \n",
    "    traindata = np.concatenate((data1,data2))\n",
    "    label = np.ones([2*num,1])\n",
    "    label[num:2*num] = -1\n",
    "    \n",
    "    testnum = 100\n",
    "    rad0 = np.sqrt(4*np.random.rand(testnum,1))\n",
    "    ang0 = 2*np.pi*np.random.rand(testnum,1)\n",
    "    testdata = np.zeros([testnum,2])\n",
    "    testdata[:,0] = (rad0*np.cos(ang0))[:,0]\n",
    "    testdata[:,1] = (rad0*np.sin(ang0))[:,0]\n",
    "    plt.plot(testdata[:,0],testdata[:,1],'bo',mfc='none')\n",
    "    \n",
    "    svm = trainsvm(traindata,label)\n",
    "    labelY = classify(svm,testdata)\n",
    "    idx1 = np.squeeze(np.array(labelY))==1\n",
    "    idx2 = np.squeeze(np.array(labelY))==-1\n",
    "\n",
    "    plt.plot(testdata[idx1,0],testdata[idx1,1],'bx',label=\"1(classified)\")\n",
    "    plt.plot(testdata[idx2,0],testdata[idx2,1],'rx',label=\"2(classified)\")\n",
    "    plt.legend()\n",
    "    \n",
    "    truelabel = np.ones([testnum,1])\n",
    "    for i in range(testnum):\n",
    "        dist = np.sqrt((testdata[i,:]**2).sum())\n",
    "        if dist > 1:\n",
    "            truelabel[i] = -1\n",
    "            \n",
    "    accuracy = (testnum-0.5*(abs(truelabel-labelY)).sum())/testnum\n",
    "    plt.title('exp - Accuracy = %.2f'%accuracy)\n",
    "    plt.show()\n",
    "    fig1.savefig(\"hw5_exp_rbf_classified.pdf\")"
   ]
  },
  {
   "cell_type": "code",
   "execution_count": 105,
   "metadata": {
    "collapsed": false
   },
   "outputs": [],
   "source": [
    "if __name__=='__main__':\n",
    "    main()"
   ]
  }
 ],
 "metadata": {
  "kernelspec": {
   "display_name": "Python 2",
   "language": "python",
   "name": "python2"
  },
  "language_info": {
   "codemirror_mode": {
    "name": "ipython",
    "version": 2
   },
   "file_extension": ".py",
   "mimetype": "text/x-python",
   "name": "python",
   "nbconvert_exporter": "python",
   "pygments_lexer": "ipython2",
   "version": "2.7.6"
  }
 },
 "nbformat": 4,
 "nbformat_minor": 0
}
