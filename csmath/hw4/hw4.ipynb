{
 "cells": [
  {
   "cell_type": "code",
   "execution_count": 1,
   "metadata": {
    "collapsed": true
   },
   "outputs": [],
   "source": [
    "import numpy as np\n",
    "import matplotlib.pyplot as plt\n",
    "from scipy.interpolate import griddata"
   ]
  },
  {
   "cell_type": "code",
   "execution_count": 2,
   "metadata": {
    "collapsed": true
   },
   "outputs": [],
   "source": [
    "def obj_func(x):\n",
    "    func = np.array([10*(x[1]-x[0]**2),1-x[0]])\n",
    "    y = np.dot(func,func)\n",
    "    J = np.array([[-20*x[0],10],[-1,0]])\n",
    "    grad = np.dot(J.T,func)\n",
    "    return y,grad,J"
   ]
  },
  {
   "cell_type": "code",
   "execution_count": 3,
   "metadata": {
    "collapsed": true
   },
   "outputs": [],
   "source": [
    "def LM(_func,x0,eps = 10**(-7),maxIter = 1000):\n",
    "    D = len(x0)\n",
    "    Lambda = 0.01\n",
    "    y,grad,J = _func(x0)\n",
    "    Iter = 0\n",
    "    x = x0\n",
    "    \n",
    "    while Iter<maxIter and np.linalg.norm(grad)>eps:\n",
    "        Iter += 1\n",
    "        y,grad,J = _func(x)\n",
    "        H = np.dot(J.T,J)+Lambda*np.eye(D)\n",
    "        eigval,eigvec = np.linalg.eig(H)\n",
    "        # positive definition (not semi)\n",
    "        while ~(eigval>np.zeros(D)).all():\n",
    "            Lambda *= 4\n",
    "            H = np.dot(J.T,J)+Lambda*np.eye(D)\n",
    "            eigval,eigvec = np.linalg.eig(H)\n",
    "            \n",
    "        Iter2 = 0\n",
    "        while Iter2<maxIter:\n",
    "            Iter2 += 1\n",
    "            \n",
    "            Dx,residuals,rank,s =np.linalg.lstsq(H,-grad)\n",
    "            xnew = x + Dx\n",
    "            ynew,gradnew,Jnew = _func(xnew)\n",
    "            #print ynew\n",
    "            delta_y = np.linalg.norm(ynew-y)\n",
    "            delta_q = np.linalg.norm(np.dot(grad.T,xnew-x))\n",
    "            rho = delta_y/delta_q\n",
    "            \n",
    "            if rho > 0:\n",
    "                x = xnew\n",
    "                if rho < 0.25:\n",
    "                    Lambda *= 4\n",
    "                elif rho > 0.75:\n",
    "                    Lambda /= 2\n",
    "                #print y,x,np.linalg.norm(grad),Lambda\n",
    "                break\n",
    "            else:\n",
    "                Lambda *= 4\n",
    "                #print y,x,np.linalg.norm(grad),Lambda\n",
    "                continue\n",
    "    return x"
   ]
  },
  {
   "cell_type": "code",
   "execution_count": 4,
   "metadata": {
    "collapsed": false
   },
   "outputs": [],
   "source": [
    "def main():\n",
    "    x = np.array([-100,100])\n",
    "    result = LM(obj_func,x)\n",
    "    print 'result = ',result"
   ]
  },
  {
   "cell_type": "code",
   "execution_count": 5,
   "metadata": {
    "collapsed": false
   },
   "outputs": [
    {
     "name": "stdout",
     "output_type": "stream",
     "text": [
      "result =  [ 1.  1.]\n"
     ]
    }
   ],
   "source": [
    "if __name__=='__main__':\n",
    "    main()"
   ]
  }
 ],
 "metadata": {
  "kernelspec": {
   "display_name": "Python 2",
   "language": "python",
   "name": "python2"
  },
  "language_info": {
   "codemirror_mode": {
    "name": "ipython",
    "version": 2
   },
   "file_extension": ".py",
   "mimetype": "text/x-python",
   "name": "python",
   "nbconvert_exporter": "python",
   "pygments_lexer": "ipython2",
   "version": "2.7.6"
  }
 },
 "nbformat": 4,
 "nbformat_minor": 0
}
