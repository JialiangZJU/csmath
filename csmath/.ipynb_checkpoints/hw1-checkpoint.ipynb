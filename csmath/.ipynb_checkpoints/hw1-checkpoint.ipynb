{
 "cells": [
  {
   "cell_type": "code",
   "execution_count": 188,
   "metadata": {
    "collapsed": false
   },
   "outputs": [],
   "source": [
    "import numpy as np\n",
    "import matplotlib.pyplot as plt\n",
    "import sys"
   ]
  },
  {
   "cell_type": "code",
   "execution_count": 189,
   "metadata": {
    "collapsed": false
   },
   "outputs": [],
   "source": [
    "def GenerateData_sin(num):\n",
    "    # gererate data (x,y) x varies from 0 to 1\n",
    "    # y = sin(x)+epsilon\n",
    "    # gaussing noise\n",
    "    x = np.linspace(0,1,num)\n",
    "    \n",
    "    mu = 0\n",
    "    sigma = 0.15\n",
    "    gaussing_noise = np.random.normal(mu,sigma,num)\n",
    "    \n",
    "    y = np.sin(x*2*np.pi) + gaussing_noise\n",
    "    \n",
    "    return x, y"
   ]
  },
  {
   "cell_type": "code",
   "execution_count": 190,
   "metadata": {
    "collapsed": false
   },
   "outputs": [],
   "source": [
    "def PolyFit(x,y,D,Lambda):\n",
    "    # Least squares\n",
    "    # Lambda for ridge regression\n",
    "    # D for degree\n",
    "    N = x.size\n",
    "    A = np.ones([N,D+1])\n",
    "    \n",
    "    for i in range(0,D):\n",
    "        A[:,D-i-1] = A[:,D-i]*x\n",
    "    \n",
    "    b = np.dot(np.linalg.inv(np.dot(A.T,A)+Lambda*np.eye(D+1)),(np.dot(A.T,y)))\n",
    "    \n",
    "    return b"
   ]
  },
  {
   "cell_type": "code",
   "execution_count": 191,
   "metadata": {
    "collapsed": true
   },
   "outputs": [],
   "source": [
    "def main(Num,D):\n",
    "    #Num, number of data point\n",
    "    #D, degree\n",
    "    x, y = GenerateData_sin(Num)\n",
    " \n",
    "    fig = plt.figure(1)\n",
    "    plt.grid(True)\n",
    "    plt.xlabel('x')\n",
    "    plt.ylabel('y')\n",
    "    plt.axis([-0.1,1.1,-1.5,1.5])\n",
    "    \n",
    "    plt.plot(x,y,'bo',mew=2,mec='b',mfc='none',ms=8)\n",
    "    \n",
    "    # plot sin(x)\n",
    "    x_sin = np.linspace(0,1,1000)\n",
    "    plt.plot(x_sin,np.sin(2*x_sin*np.pi),'#00FF00',lw=2,label='$y = \\sin(x)$')\n",
    "    \n",
    "    # plot PolyFit curve\n",
    "    Lambda = np.exp(-18)\n",
    "    #Lambda = 0\n",
    "    b = PolyFit(x,y,D,Lambda)\n",
    "    \n",
    "    PolyFit_curve = np.poly1d(b)\n",
    "    x_fit = np.linspace(0,1,1000)\n",
    "    #label ='$N = ' + str(Num) + ', D = ' + str(D) + ', \\Lambda = '+ str(Lambda) + '$'\n",
    "    label ='$N = ' + str(Num) + ', D = ' + str(D) + ', \\Lambda = exp(-18)$'\n",
    "    plt.plot(x_fit,PolyFit_curve(x_fit),'-r',label=label,lw=2)\n",
    "\n",
    "    plt.legend()\n",
    "    plt.show()\n",
    "    figname = 'PolyFit_D'+str(D)+'_N'+str(Num)+'Reg.pdf'\n",
    "    fig.savefig(figname)"
   ]
  },
  {
   "cell_type": "code",
   "execution_count": 192,
   "metadata": {
    "collapsed": false
   },
   "outputs": [
    {
     "name": "stdout",
     "output_type": "stream",
     "text": [
      "-f\n"
     ]
    }
   ],
   "source": [
    "if __name__=='__main__':\n",
    "    print sys.argv[1]\n",
    "    \n",
    "    main(int(sys.argv[1]),int(sys.argv[2]))"
   ]
  }
 ],
 "metadata": {
  "kernelspec": {
   "display_name": "Python 2",
   "language": "python",
   "name": "python2"
  },
  "language_info": {
   "codemirror_mode": {
    "name": "ipython",
    "version": 2
   },
   "file_extension": ".py",
   "mimetype": "text/x-python",
   "name": "python",
   "nbconvert_exporter": "python",
   "pygments_lexer": "ipython2",
   "version": "2.7.6"
  }
 },
 "nbformat": 4,
 "nbformat_minor": 0
}
